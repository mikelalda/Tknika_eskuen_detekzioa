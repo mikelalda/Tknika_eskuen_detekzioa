{
 "cells": [
  {
   "cell_type": "markdown",
   "metadata": {},
   "source": [
    "# Eskuaren detekzioa egiteko programa\n",
    "\n",
    "Programa honek, Google enpresak eginiko modelo ireki bat erabiltzen du eskuen detekzioa eta posizioak esaten dituena. \n",
    "\n",
    "## Erabiliko ditugun liburutegia guztiak txertatu\n",
    "\n",
    "Zati honetan egin beharrik ez dago, hori bakoitzaren araberakoa da, baina normalean programa bat jarraia bada guztia batera egiten da hasieran."
   ]
  },
  {
   "cell_type": "code",
   "execution_count": 2,
   "metadata": {},
   "outputs": [],
   "source": [
    "import os\n",
    "os.environ['TF_CPP_MIN_LOG_LEVEL'] = '3'\n",
    "import tensorflow as tf\n",
    "import tensorflow.keras as keras\n",
    "from keras.utils import to_categorical \n",
    "import cv2\n",
    "import mediapipe as mp\n",
    "import pandas as pd\n",
    "import numpy as np\n",
    "from os.path import exists\n",
    "physical_devices = tf.config.experimental.list_physical_devices('GPU')\n",
    "if len(physical_devices) > 0:\n",
    "    tf.config.experimental.set_memory_growth(physical_devices[0], True)"
   ]
  },
  {
   "cell_type": "markdown",
   "metadata": {},
   "source": [
    "## Beren modeloa ikusi eta ulertu aldagaiak\n",
    "\n",
    "Aldagaiak ulertzea ezinbestekoa da berarekin zerbait egiten hasteko, beraz atal honetan horretan zentratuko gara."
   ]
  },
  {
   "cell_type": "code",
   "execution_count": 2,
   "metadata": {},
   "outputs": [
    {
     "name": "stderr",
     "output_type": "stream",
     "text": [
      "INFO: Created TensorFlow Lite XNNPACK delegate for CPU.\n"
     ]
    }
   ],
   "source": [
    "mp_drawing = mp.solutions.drawing_utils\n",
    "mp_drawing_styles = mp.solutions.drawing_styles\n",
    "mp_hands = mp.solutions.hands\n",
    "\n",
    "# For webcam input:\n",
    "cap = cv2.VideoCapture(0)\n",
    "with mp_hands.Hands(\n",
    "    model_complexity=0,\n",
    "    max_num_hands=1,\n",
    "    min_detection_confidence=0.5,\n",
    "    min_tracking_confidence=0.5) as hands:\n",
    "  while cap.isOpened():\n",
    "    success, image = cap.read()\n",
    "    if not success:\n",
    "      print(\"Ignoring empty camera frame.\")\n",
    "      # If loading a video, use 'break' instead of 'continue'.\n",
    "      continue\n",
    "\n",
    "    # To improve performance, optionally mark the image as not writeable to\n",
    "    # pass by reference.\n",
    "    image.flags.writeable = False\n",
    "    image = cv2.cvtColor(image, cv2.COLOR_BGR2RGB)\n",
    "    results = hands.process(image)\n",
    "\n",
    "    # Draw the hand annotations on the image.\n",
    "    image.flags.writeable = True\n",
    "    image = cv2.cvtColor(image, cv2.COLOR_RGB2BGR)\n",
    "    if results.multi_hand_landmarks:   \n",
    "        for hand_landmarks in results.multi_hand_landmarks: \n",
    "            mp_drawing.draw_landmarks(\n",
    "                image,\n",
    "                hand_landmarks,\n",
    "                mp_hands.HAND_CONNECTIONS,\n",
    "                mp_drawing_styles.get_default_hand_landmarks_style(),\n",
    "                mp_drawing_styles.get_default_hand_connections_style())\n",
    "    # Flip the image horizontally for a selfie-view display.\n",
    "    cv2.imshow('MediaPipe Hands', cv2.flip(image, 1))\n",
    "    k = cv2.waitKey(1)\n",
    "    if  k%256 == 27 or k == ord('q'):\n",
    "      break\n",
    "cap.release()\n"
   ]
  },
  {
   "cell_type": "markdown",
   "metadata": {},
   "source": [
    "## Datuak sortu eta csv bezala gordetzeko programa\n",
    "\n",
    "Lehen ikusitako modeloak sortzen dituen datuak erabiliko ditugu modeloak ikasi dezan "
   ]
  },
  {
   "cell_type": "code",
   "execution_count": 37,
   "metadata": {},
   "outputs": [
    {
     "data": {
      "text/html": [
       "<div>\n",
       "<style scoped>\n",
       "    .dataframe tbody tr th:only-of-type {\n",
       "        vertical-align: middle;\n",
       "    }\n",
       "\n",
       "    .dataframe tbody tr th {\n",
       "        vertical-align: top;\n",
       "    }\n",
       "\n",
       "    .dataframe thead th {\n",
       "        text-align: right;\n",
       "    }\n",
       "</style>\n",
       "<table border=\"1\" class=\"dataframe\">\n",
       "  <thead>\n",
       "    <tr style=\"text-align: right;\">\n",
       "      <th></th>\n",
       "      <th>0_x</th>\n",
       "      <th>0_y</th>\n",
       "      <th>0_z</th>\n",
       "      <th>1_x</th>\n",
       "      <th>1_y</th>\n",
       "      <th>1_z</th>\n",
       "      <th>2_x</th>\n",
       "      <th>2_y</th>\n",
       "      <th>2_z</th>\n",
       "      <th>3_x</th>\n",
       "      <th>...</th>\n",
       "      <th>18_x</th>\n",
       "      <th>18_y</th>\n",
       "      <th>18_z</th>\n",
       "      <th>19_x</th>\n",
       "      <th>19_y</th>\n",
       "      <th>19_z</th>\n",
       "      <th>20_x</th>\n",
       "      <th>20_y</th>\n",
       "      <th>20_z</th>\n",
       "      <th>classes</th>\n",
       "    </tr>\n",
       "  </thead>\n",
       "  <tbody>\n",
       "    <tr>\n",
       "      <th>0</th>\n",
       "      <td>0.134657</td>\n",
       "      <td>0.706031</td>\n",
       "      <td>9.072567e-09</td>\n",
       "      <td>0.211390</td>\n",
       "      <td>0.706682</td>\n",
       "      <td>-0.031649</td>\n",
       "      <td>0.286082</td>\n",
       "      <td>0.668941</td>\n",
       "      <td>-0.050598</td>\n",
       "      <td>0.340458</td>\n",
       "      <td>...</td>\n",
       "      <td>0.128413</td>\n",
       "      <td>0.405331</td>\n",
       "      <td>-0.053028</td>\n",
       "      <td>0.124075</td>\n",
       "      <td>0.354581</td>\n",
       "      <td>-0.065166</td>\n",
       "      <td>0.122100</td>\n",
       "      <td>0.306451</td>\n",
       "      <td>-0.075132</td>\n",
       "      <td>1</td>\n",
       "    </tr>\n",
       "    <tr>\n",
       "      <th>1</th>\n",
       "      <td>0.191683</td>\n",
       "      <td>0.687444</td>\n",
       "      <td>1.105178e-08</td>\n",
       "      <td>0.263407</td>\n",
       "      <td>0.681651</td>\n",
       "      <td>-0.034724</td>\n",
       "      <td>0.333978</td>\n",
       "      <td>0.642448</td>\n",
       "      <td>-0.057625</td>\n",
       "      <td>0.387802</td>\n",
       "      <td>...</td>\n",
       "      <td>0.161817</td>\n",
       "      <td>0.400503</td>\n",
       "      <td>-0.065021</td>\n",
       "      <td>0.150006</td>\n",
       "      <td>0.351224</td>\n",
       "      <td>-0.077530</td>\n",
       "      <td>0.140942</td>\n",
       "      <td>0.303773</td>\n",
       "      <td>-0.087916</td>\n",
       "      <td>1</td>\n",
       "    </tr>\n",
       "    <tr>\n",
       "      <th>2</th>\n",
       "      <td>0.201746</td>\n",
       "      <td>0.692130</td>\n",
       "      <td>1.046971e-08</td>\n",
       "      <td>0.274974</td>\n",
       "      <td>0.683077</td>\n",
       "      <td>-0.036458</td>\n",
       "      <td>0.346051</td>\n",
       "      <td>0.639293</td>\n",
       "      <td>-0.059450</td>\n",
       "      <td>0.398709</td>\n",
       "      <td>...</td>\n",
       "      <td>0.165509</td>\n",
       "      <td>0.402481</td>\n",
       "      <td>-0.059800</td>\n",
       "      <td>0.153408</td>\n",
       "      <td>0.354429</td>\n",
       "      <td>-0.071894</td>\n",
       "      <td>0.144281</td>\n",
       "      <td>0.307997</td>\n",
       "      <td>-0.081957</td>\n",
       "      <td>1</td>\n",
       "    </tr>\n",
       "    <tr>\n",
       "      <th>3</th>\n",
       "      <td>0.216800</td>\n",
       "      <td>0.697454</td>\n",
       "      <td>1.009626e-08</td>\n",
       "      <td>0.289905</td>\n",
       "      <td>0.686286</td>\n",
       "      <td>-0.038151</td>\n",
       "      <td>0.359698</td>\n",
       "      <td>0.640132</td>\n",
       "      <td>-0.061724</td>\n",
       "      <td>0.410558</td>\n",
       "      <td>...</td>\n",
       "      <td>0.174265</td>\n",
       "      <td>0.407746</td>\n",
       "      <td>-0.063899</td>\n",
       "      <td>0.163001</td>\n",
       "      <td>0.360220</td>\n",
       "      <td>-0.077572</td>\n",
       "      <td>0.155186</td>\n",
       "      <td>0.314325</td>\n",
       "      <td>-0.088727</td>\n",
       "      <td>1</td>\n",
       "    </tr>\n",
       "    <tr>\n",
       "      <th>4</th>\n",
       "      <td>0.229047</td>\n",
       "      <td>0.703675</td>\n",
       "      <td>9.682712e-09</td>\n",
       "      <td>0.300720</td>\n",
       "      <td>0.693605</td>\n",
       "      <td>-0.037595</td>\n",
       "      <td>0.367719</td>\n",
       "      <td>0.647800</td>\n",
       "      <td>-0.061502</td>\n",
       "      <td>0.416434</td>\n",
       "      <td>...</td>\n",
       "      <td>0.186349</td>\n",
       "      <td>0.415254</td>\n",
       "      <td>-0.067700</td>\n",
       "      <td>0.173805</td>\n",
       "      <td>0.368238</td>\n",
       "      <td>-0.082578</td>\n",
       "      <td>0.164900</td>\n",
       "      <td>0.322111</td>\n",
       "      <td>-0.094814</td>\n",
       "      <td>1</td>\n",
       "    </tr>\n",
       "    <tr>\n",
       "      <th>...</th>\n",
       "      <td>...</td>\n",
       "      <td>...</td>\n",
       "      <td>...</td>\n",
       "      <td>...</td>\n",
       "      <td>...</td>\n",
       "      <td>...</td>\n",
       "      <td>...</td>\n",
       "      <td>...</td>\n",
       "      <td>...</td>\n",
       "      <td>...</td>\n",
       "      <td>...</td>\n",
       "      <td>...</td>\n",
       "      <td>...</td>\n",
       "      <td>...</td>\n",
       "      <td>...</td>\n",
       "      <td>...</td>\n",
       "      <td>...</td>\n",
       "      <td>...</td>\n",
       "      <td>...</td>\n",
       "      <td>...</td>\n",
       "      <td>...</td>\n",
       "    </tr>\n",
       "    <tr>\n",
       "      <th>1300</th>\n",
       "      <td>0.643126</td>\n",
       "      <td>0.520160</td>\n",
       "      <td>4.498404e-09</td>\n",
       "      <td>0.671689</td>\n",
       "      <td>0.457937</td>\n",
       "      <td>0.016565</td>\n",
       "      <td>0.720950</td>\n",
       "      <td>0.399172</td>\n",
       "      <td>0.013187</td>\n",
       "      <td>0.753830</td>\n",
       "      <td>...</td>\n",
       "      <td>0.783634</td>\n",
       "      <td>0.570253</td>\n",
       "      <td>-0.034124</td>\n",
       "      <td>0.761040</td>\n",
       "      <td>0.574288</td>\n",
       "      <td>-0.018493</td>\n",
       "      <td>0.740515</td>\n",
       "      <td>0.559758</td>\n",
       "      <td>-0.010035</td>\n",
       "      <td>4</td>\n",
       "    </tr>\n",
       "    <tr>\n",
       "      <th>1301</th>\n",
       "      <td>0.637179</td>\n",
       "      <td>0.521018</td>\n",
       "      <td>4.453662e-09</td>\n",
       "      <td>0.664615</td>\n",
       "      <td>0.458015</td>\n",
       "      <td>0.016087</td>\n",
       "      <td>0.713403</td>\n",
       "      <td>0.398384</td>\n",
       "      <td>0.012427</td>\n",
       "      <td>0.746187</td>\n",
       "      <td>...</td>\n",
       "      <td>0.776232</td>\n",
       "      <td>0.575392</td>\n",
       "      <td>-0.035857</td>\n",
       "      <td>0.753755</td>\n",
       "      <td>0.578795</td>\n",
       "      <td>-0.020681</td>\n",
       "      <td>0.733222</td>\n",
       "      <td>0.563668</td>\n",
       "      <td>-0.012428</td>\n",
       "      <td>4</td>\n",
       "    </tr>\n",
       "    <tr>\n",
       "      <th>1302</th>\n",
       "      <td>0.630155</td>\n",
       "      <td>0.523378</td>\n",
       "      <td>4.523752e-09</td>\n",
       "      <td>0.655460</td>\n",
       "      <td>0.460459</td>\n",
       "      <td>0.016059</td>\n",
       "      <td>0.702056</td>\n",
       "      <td>0.399952</td>\n",
       "      <td>0.009776</td>\n",
       "      <td>0.732854</td>\n",
       "      <td>...</td>\n",
       "      <td>0.770722</td>\n",
       "      <td>0.573896</td>\n",
       "      <td>-0.049966</td>\n",
       "      <td>0.748029</td>\n",
       "      <td>0.577089</td>\n",
       "      <td>-0.033175</td>\n",
       "      <td>0.726174</td>\n",
       "      <td>0.561618</td>\n",
       "      <td>-0.022557</td>\n",
       "      <td>4</td>\n",
       "    </tr>\n",
       "    <tr>\n",
       "      <th>1303</th>\n",
       "      <td>0.618036</td>\n",
       "      <td>0.523407</td>\n",
       "      <td>5.651243e-09</td>\n",
       "      <td>0.642885</td>\n",
       "      <td>0.463195</td>\n",
       "      <td>0.021995</td>\n",
       "      <td>0.687032</td>\n",
       "      <td>0.400745</td>\n",
       "      <td>0.014334</td>\n",
       "      <td>0.713591</td>\n",
       "      <td>...</td>\n",
       "      <td>0.763831</td>\n",
       "      <td>0.566132</td>\n",
       "      <td>-0.067513</td>\n",
       "      <td>0.745390</td>\n",
       "      <td>0.572231</td>\n",
       "      <td>-0.045395</td>\n",
       "      <td>0.723148</td>\n",
       "      <td>0.558927</td>\n",
       "      <td>-0.029283</td>\n",
       "      <td>4</td>\n",
       "    </tr>\n",
       "    <tr>\n",
       "      <th>1304</th>\n",
       "      <td>0.599951</td>\n",
       "      <td>0.528577</td>\n",
       "      <td>5.351812e-09</td>\n",
       "      <td>0.624816</td>\n",
       "      <td>0.464321</td>\n",
       "      <td>0.030208</td>\n",
       "      <td>0.667734</td>\n",
       "      <td>0.402384</td>\n",
       "      <td>0.025901</td>\n",
       "      <td>0.697893</td>\n",
       "      <td>...</td>\n",
       "      <td>0.751242</td>\n",
       "      <td>0.566246</td>\n",
       "      <td>-0.080450</td>\n",
       "      <td>0.754521</td>\n",
       "      <td>0.582148</td>\n",
       "      <td>-0.059468</td>\n",
       "      <td>0.746998</td>\n",
       "      <td>0.582059</td>\n",
       "      <td>-0.043397</td>\n",
       "      <td>4</td>\n",
       "    </tr>\n",
       "  </tbody>\n",
       "</table>\n",
       "<p>1305 rows × 64 columns</p>\n",
       "</div>"
      ],
      "text/plain": [
       "           0_x       0_y           0_z       1_x       1_y       1_z  \\\n",
       "0     0.134657  0.706031  9.072567e-09  0.211390  0.706682 -0.031649   \n",
       "1     0.191683  0.687444  1.105178e-08  0.263407  0.681651 -0.034724   \n",
       "2     0.201746  0.692130  1.046971e-08  0.274974  0.683077 -0.036458   \n",
       "3     0.216800  0.697454  1.009626e-08  0.289905  0.686286 -0.038151   \n",
       "4     0.229047  0.703675  9.682712e-09  0.300720  0.693605 -0.037595   \n",
       "...        ...       ...           ...       ...       ...       ...   \n",
       "1300  0.643126  0.520160  4.498404e-09  0.671689  0.457937  0.016565   \n",
       "1301  0.637179  0.521018  4.453662e-09  0.664615  0.458015  0.016087   \n",
       "1302  0.630155  0.523378  4.523752e-09  0.655460  0.460459  0.016059   \n",
       "1303  0.618036  0.523407  5.651243e-09  0.642885  0.463195  0.021995   \n",
       "1304  0.599951  0.528577  5.351812e-09  0.624816  0.464321  0.030208   \n",
       "\n",
       "           2_x       2_y       2_z       3_x  ...      18_x      18_y  \\\n",
       "0     0.286082  0.668941 -0.050598  0.340458  ...  0.128413  0.405331   \n",
       "1     0.333978  0.642448 -0.057625  0.387802  ...  0.161817  0.400503   \n",
       "2     0.346051  0.639293 -0.059450  0.398709  ...  0.165509  0.402481   \n",
       "3     0.359698  0.640132 -0.061724  0.410558  ...  0.174265  0.407746   \n",
       "4     0.367719  0.647800 -0.061502  0.416434  ...  0.186349  0.415254   \n",
       "...        ...       ...       ...       ...  ...       ...       ...   \n",
       "1300  0.720950  0.399172  0.013187  0.753830  ...  0.783634  0.570253   \n",
       "1301  0.713403  0.398384  0.012427  0.746187  ...  0.776232  0.575392   \n",
       "1302  0.702056  0.399952  0.009776  0.732854  ...  0.770722  0.573896   \n",
       "1303  0.687032  0.400745  0.014334  0.713591  ...  0.763831  0.566132   \n",
       "1304  0.667734  0.402384  0.025901  0.697893  ...  0.751242  0.566246   \n",
       "\n",
       "          18_z      19_x      19_y      19_z      20_x      20_y      20_z  \\\n",
       "0    -0.053028  0.124075  0.354581 -0.065166  0.122100  0.306451 -0.075132   \n",
       "1    -0.065021  0.150006  0.351224 -0.077530  0.140942  0.303773 -0.087916   \n",
       "2    -0.059800  0.153408  0.354429 -0.071894  0.144281  0.307997 -0.081957   \n",
       "3    -0.063899  0.163001  0.360220 -0.077572  0.155186  0.314325 -0.088727   \n",
       "4    -0.067700  0.173805  0.368238 -0.082578  0.164900  0.322111 -0.094814   \n",
       "...        ...       ...       ...       ...       ...       ...       ...   \n",
       "1300 -0.034124  0.761040  0.574288 -0.018493  0.740515  0.559758 -0.010035   \n",
       "1301 -0.035857  0.753755  0.578795 -0.020681  0.733222  0.563668 -0.012428   \n",
       "1302 -0.049966  0.748029  0.577089 -0.033175  0.726174  0.561618 -0.022557   \n",
       "1303 -0.067513  0.745390  0.572231 -0.045395  0.723148  0.558927 -0.029283   \n",
       "1304 -0.080450  0.754521  0.582148 -0.059468  0.746998  0.582059 -0.043397   \n",
       "\n",
       "      classes  \n",
       "0           1  \n",
       "1           1  \n",
       "2           1  \n",
       "3           1  \n",
       "4           1  \n",
       "...       ...  \n",
       "1300        4  \n",
       "1301        4  \n",
       "1302        4  \n",
       "1303        4  \n",
       "1304        4  \n",
       "\n",
       "[1305 rows x 64 columns]"
      ]
     },
     "metadata": {},
     "output_type": "display_data"
    }
   ],
   "source": [
    "mp_drawing = mp.solutions.drawing_utils\n",
    "mp_drawing_styles = mp.solutions.drawing_styles\n",
    "mp_hands = mp.solutions.hands\n",
    "\n",
    "\n",
    "# Gordeko ditugun puntuen koordenaden izenak\n",
    "column_names = ['0_x', '0_y', '0_z', '1_x', '1_y', '1_z', '2_x', '2_y', '2_z', '3_x', '3_y', '3_z', '4_x', '4_y', '4_z', \n",
    "                '5_x', '5_y', '5_z', '6_x', '6_y', '6_z', '7_x', '7_y', '7_z', '8_x', '8_y', '8_z', '9_x', '9_y', '9_z', \n",
    "                '10_x', '10_y', '10_z', '11_x', '11_y', '11_z', '12_x', '12_y', '12_z', '13_x', '13_y', '13_z', '14_x', \n",
    "                '14_y', '14_z', '15_x', '15_y', '15_z', '16_x', '16_y', '16_z', '17_x', '17_y', '17_z', '18_x', '18_y', \n",
    "                '18_z', '19_x', '19_y', '19_z', '20_x', '20_y', '20_z', 'classes']\n",
    "\n",
    "if exists('datos.csv'):\n",
    "  data = pd.read_csv('datos.csv')\n",
    "  landmark_csv = pd.DataFrame(data, columns= column_names)\n",
    "  \n",
    "else:\n",
    "  landmark_csv = pd.DataFrame(columns=column_names)\n",
    "\n",
    "\n",
    "# For webcam input:\n",
    "cap = cv2.VideoCapture(0)\n",
    "with mp_hands.Hands(\n",
    "    model_complexity=0,\n",
    "    max_num_hands=1,\n",
    "    min_detection_confidence=0.5,\n",
    "    min_tracking_confidence=0.5) as hands:\n",
    "  while cap.isOpened():\n",
    "    success, image = cap.read()\n",
    "    if not success:\n",
    "      print(\"Ignoring empty camera frame.\")\n",
    "      # If loading a video, use 'break' instead of 'continue'.\n",
    "      continue\n",
    "\n",
    "    # To improve performance, optionally mark the image as not writeable to\n",
    "    # pass by reference.\n",
    "    image.flags.writeable = False\n",
    "    image = cv2.cvtColor(image, cv2.COLOR_BGR2RGB)\n",
    "    results = hands.process(image)\n",
    "\n",
    "    # Draw the hand annotations on the image.\n",
    "    image.flags.writeable = True\n",
    "    image = cv2.cvtColor(image, cv2.COLOR_RGB2BGR)\n",
    "    landmark_csv = pd.DataFrame(columns=column_names)\n",
    "    if results.multi_hand_landmarks:\n",
    "        for hand_landmarks in results.multi_hand_landmarks:\n",
    "          key = cv2.waitKey(1)\n",
    "          if key!=-1:\n",
    "            points = []\n",
    "            for n in enumerate(hand_landmarks.landmark):\n",
    "              points.append(n[1].x)\n",
    "              points.append(n[1].y)\n",
    "              points.append(n[1].z)\n",
    "                \n",
    "            points.append(chr(key))\n",
    "            a_series = pd. Series(points, index = column_names)\n",
    "            landmark_csv = landmark_csv.append(a_series, ignore_index=True)\n",
    "            \n",
    "              \n",
    "          mp_drawing.draw_landmarks(\n",
    "              image,\n",
    "              hand_landmarks,\n",
    "              mp_hands.HAND_CONNECTIONS,\n",
    "              mp_drawing_styles.get_default_hand_landmarks_style(),\n",
    "              mp_drawing_styles.get_default_hand_connections_style())\n",
    "    # Flip the image horizontally for a selfie-view display.\n",
    "    cv2.imshow('MediaPipe Hands', cv2.flip(image, 1))\n",
    "    k = cv2.waitKey(1)\n",
    "    if  k%256 == 27 or k == ord('q'):\n",
    "      break\n",
    "landmark_csv['classes']= pd.to_numeric(landmark_csv['classes'], errors='coerce').astype('int')\n",
    "landmark_csv = landmark_csv.dropna()\n",
    "display(landmark_csv)\n",
    "landmark_csv.to_csv('datos.csv')\n",
    "cap.release()\n"
   ]
  },
  {
   "cell_type": "markdown",
   "metadata": {},
   "source": [
    "## Modeloa sortu\n",
    "\n",
    "Behin datuak gordeta ditugula eta erabilgarri daudela, modeloa sortuko dugu."
   ]
  },
  {
   "cell_type": "code",
   "execution_count": 2,
   "metadata": {},
   "outputs": [],
   "source": [
    "column_names = ['0_x', '0_y', '0_z', '1_x', '1_y', '1_z', '2_x', '2_y', '2_z', '3_x', '3_y', '3_z', '4_x', '4_y', '4_z', \n",
    "                '5_x', '5_y', '5_z', '6_x', '6_y', '6_z', '7_x', '7_y', '7_z', '8_x', '8_y', '8_z', '9_x', '9_y', '9_z', \n",
    "                '10_x', '10_y', '10_z', '11_x', '11_y', '11_z', '12_x', '12_y', '12_z', '13_x', '13_y', '13_z', '14_x', \n",
    "                '14_y', '14_z', '15_x', '15_y', '15_z', '16_x', '16_y', '16_z', '17_x', '17_y', '17_z', '18_x', '18_y', \n",
    "                '18_z', '19_x', '19_y', '19_z', '20_x', '20_y', '20_z', 'classes']\n",
    "if exists('datos.csv'):\n",
    "  data = pd.read_csv('datos.csv')\n",
    "  landmark_csv = pd.DataFrame(data, columns= column_names)\n",
    "\n",
    "else:\n",
    "  print('Ez da horrelako dokumenturik bilatu')"
   ]
  },
  {
   "cell_type": "code",
   "execution_count": 3,
   "metadata": {},
   "outputs": [
    {
     "name": "stderr",
     "output_type": "stream",
     "text": [
      "2022-02-01 13:56:15.242324: I tensorflow/core/platform/cpu_feature_guard.cc:142] This TensorFlow binary is optimized with oneAPI Deep Neural Network Library (oneDNN) to use the following CPU instructions in performance-critical operations:  AVX2 FMA\n",
      "To enable them in other operations, rebuild TensorFlow with the appropriate compiler flags.\n",
      "2022-02-01 13:56:15.243467: I tensorflow/stream_executor/cuda/cuda_gpu_executor.cc:937] successful NUMA node read from SysFS had negative value (-1), but there must be at least one NUMA node, so returning NUMA node zero\n",
      "2022-02-01 13:56:15.244067: I tensorflow/core/common_runtime/gpu/gpu_device.cc:1733] Found device 0 with properties: \n",
      "pciBusID: 0000:04:00.0 name: NVIDIA GeForce RTX 3090 computeCapability: 8.6\n",
      "coreClock: 1.785GHz coreCount: 82 deviceMemorySize: 23.67GiB deviceMemoryBandwidth: 871.81GiB/s\n",
      "2022-02-01 13:56:15.244150: I tensorflow/stream_executor/cuda/cuda_gpu_executor.cc:937] successful NUMA node read from SysFS had negative value (-1), but there must be at least one NUMA node, so returning NUMA node zero\n",
      "2022-02-01 13:56:15.244707: I tensorflow/stream_executor/cuda/cuda_gpu_executor.cc:937] successful NUMA node read from SysFS had negative value (-1), but there must be at least one NUMA node, so returning NUMA node zero\n",
      "2022-02-01 13:56:15.245215: I tensorflow/core/common_runtime/gpu/gpu_device.cc:1871] Adding visible gpu devices: 0\n",
      "2022-02-01 13:56:15.245247: I tensorflow/stream_executor/platform/default/dso_loader.cc:53] Successfully opened dynamic library libcudart.so.11.0\n",
      "2022-02-01 13:56:15.620256: I tensorflow/core/common_runtime/gpu/gpu_device.cc:1258] Device interconnect StreamExecutor with strength 1 edge matrix:\n",
      "2022-02-01 13:56:15.620284: I tensorflow/core/common_runtime/gpu/gpu_device.cc:1264]      0 \n",
      "2022-02-01 13:56:15.620290: I tensorflow/core/common_runtime/gpu/gpu_device.cc:1277] 0:   N \n",
      "2022-02-01 13:56:15.620466: I tensorflow/stream_executor/cuda/cuda_gpu_executor.cc:937] successful NUMA node read from SysFS had negative value (-1), but there must be at least one NUMA node, so returning NUMA node zero\n",
      "2022-02-01 13:56:15.621055: I tensorflow/stream_executor/cuda/cuda_gpu_executor.cc:937] successful NUMA node read from SysFS had negative value (-1), but there must be at least one NUMA node, so returning NUMA node zero\n",
      "2022-02-01 13:56:15.621614: I tensorflow/stream_executor/cuda/cuda_gpu_executor.cc:937] successful NUMA node read from SysFS had negative value (-1), but there must be at least one NUMA node, so returning NUMA node zero\n",
      "2022-02-01 13:56:15.622148: I tensorflow/core/common_runtime/gpu/gpu_device.cc:1418] Created TensorFlow device (/job:localhost/replica:0/task:0/device:GPU:0 with 20252 MB memory) -> physical GPU (device: 0, name: NVIDIA GeForce RTX 3090, pci bus id: 0000:04:00.0, compute capability: 8.6)\n"
     ]
    }
   ],
   "source": [
    "model= keras.models.Sequential()\n",
    "model.add(keras.layers.Flatten(input_shape=[landmark_csv.shape[1]-1]))\n",
    "model.add(keras.layers.Dense(256, activation=\"relu\"))\n",
    "model.add(keras.layers.Dense(64, activation=\"relu\"))\n",
    "model.add(keras.layers.Dense(len(pd.unique(landmark_csv['classes']))+1, activation=\"softmax\"))"
   ]
  },
  {
   "cell_type": "code",
   "execution_count": 4,
   "metadata": {},
   "outputs": [
    {
     "name": "stdout",
     "output_type": "stream",
     "text": [
      "Model: \"sequential\"\n",
      "_________________________________________________________________\n",
      "Layer (type)                 Output Shape              Param #   \n",
      "=================================================================\n",
      "flatten (Flatten)            (None, 63)                0         \n",
      "_________________________________________________________________\n",
      "dense (Dense)                (None, 256)               16384     \n",
      "_________________________________________________________________\n",
      "dense_1 (Dense)              (None, 64)                16448     \n",
      "_________________________________________________________________\n",
      "dense_2 (Dense)              (None, 5)                 325       \n",
      "=================================================================\n",
      "Total params: 33,157\n",
      "Trainable params: 33,157\n",
      "Non-trainable params: 0\n",
      "_________________________________________________________________\n"
     ]
    }
   ],
   "source": [
    "model.summary()"
   ]
  },
  {
   "cell_type": "code",
   "execution_count": 5,
   "metadata": {},
   "outputs": [
    {
     "data": {
      "text/plain": [
       "[<tensorflow.python.keras.layers.core.Flatten at 0x7f9ac455bd00>,\n",
       " <tensorflow.python.keras.layers.core.Dense at 0x7f98f2caf0a0>,\n",
       " <tensorflow.python.keras.layers.core.Dense at 0x7f98e80586a0>,\n",
       " <tensorflow.python.keras.layers.core.Dense at 0x7f98e05e57f0>]"
      ]
     },
     "execution_count": 5,
     "metadata": {},
     "output_type": "execute_result"
    }
   ],
   "source": [
    "model.layers"
   ]
  },
  {
   "cell_type": "code",
   "execution_count": 6,
   "metadata": {},
   "outputs": [
    {
     "data": {
      "text/plain": [
       "'dense'"
      ]
     },
     "execution_count": 6,
     "metadata": {},
     "output_type": "execute_result"
    }
   ],
   "source": [
    "hidden1=model.layers[1]\n",
    "hidden1.name"
   ]
  },
  {
   "cell_type": "code",
   "execution_count": 7,
   "metadata": {},
   "outputs": [
    {
     "data": {
      "text/plain": [
       "False"
      ]
     },
     "execution_count": 7,
     "metadata": {},
     "output_type": "execute_result"
    }
   ],
   "source": [
    "model.get_layer('dense_2') is hidden1"
   ]
  },
  {
   "cell_type": "code",
   "execution_count": 8,
   "metadata": {},
   "outputs": [
    {
     "data": {
      "text/plain": [
       "array([[ 0.04252769, -0.1267502 , -0.13518463, ..., -0.06741792,\n",
       "         0.01505406,  0.05587761],\n",
       "       [-0.08329153, -0.06458429,  0.12947193, ..., -0.10593371,\n",
       "         0.08365664, -0.03016572],\n",
       "       [ 0.00520806,  0.10476731, -0.00055985, ..., -0.00739922,\n",
       "        -0.00633277,  0.00445716],\n",
       "       ...,\n",
       "       [-0.11611523,  0.01720847,  0.10682938, ...,  0.04304127,\n",
       "        -0.10637222,  0.12774119],\n",
       "       [ 0.05167224, -0.04583666,  0.01625359, ..., -0.12721388,\n",
       "        -0.06032306,  0.00961348],\n",
       "       [ 0.01641473, -0.04809975, -0.02318222, ..., -0.01880553,\n",
       "         0.1313495 ,  0.05306922]], dtype=float32)"
      ]
     },
     "execution_count": 8,
     "metadata": {},
     "output_type": "execute_result"
    }
   ],
   "source": [
    "weights, biases = hidden1.get_weights()\n",
    "weights"
   ]
  },
  {
   "cell_type": "code",
   "execution_count": 9,
   "metadata": {},
   "outputs": [
    {
     "data": {
      "text/plain": [
       "(63, 256)"
      ]
     },
     "execution_count": 9,
     "metadata": {},
     "output_type": "execute_result"
    }
   ],
   "source": [
    "weights.shape"
   ]
  },
  {
   "cell_type": "code",
   "execution_count": 10,
   "metadata": {},
   "outputs": [
    {
     "data": {
      "text/plain": [
       "array([0., 0., 0., 0., 0., 0., 0., 0., 0., 0., 0., 0., 0., 0., 0., 0., 0.,\n",
       "       0., 0., 0., 0., 0., 0., 0., 0., 0., 0., 0., 0., 0., 0., 0., 0., 0.,\n",
       "       0., 0., 0., 0., 0., 0., 0., 0., 0., 0., 0., 0., 0., 0., 0., 0., 0.,\n",
       "       0., 0., 0., 0., 0., 0., 0., 0., 0., 0., 0., 0., 0., 0., 0., 0., 0.,\n",
       "       0., 0., 0., 0., 0., 0., 0., 0., 0., 0., 0., 0., 0., 0., 0., 0., 0.,\n",
       "       0., 0., 0., 0., 0., 0., 0., 0., 0., 0., 0., 0., 0., 0., 0., 0., 0.,\n",
       "       0., 0., 0., 0., 0., 0., 0., 0., 0., 0., 0., 0., 0., 0., 0., 0., 0.,\n",
       "       0., 0., 0., 0., 0., 0., 0., 0., 0., 0., 0., 0., 0., 0., 0., 0., 0.,\n",
       "       0., 0., 0., 0., 0., 0., 0., 0., 0., 0., 0., 0., 0., 0., 0., 0., 0.,\n",
       "       0., 0., 0., 0., 0., 0., 0., 0., 0., 0., 0., 0., 0., 0., 0., 0., 0.,\n",
       "       0., 0., 0., 0., 0., 0., 0., 0., 0., 0., 0., 0., 0., 0., 0., 0., 0.,\n",
       "       0., 0., 0., 0., 0., 0., 0., 0., 0., 0., 0., 0., 0., 0., 0., 0., 0.,\n",
       "       0., 0., 0., 0., 0., 0., 0., 0., 0., 0., 0., 0., 0., 0., 0., 0., 0.,\n",
       "       0., 0., 0., 0., 0., 0., 0., 0., 0., 0., 0., 0., 0., 0., 0., 0., 0.,\n",
       "       0., 0., 0., 0., 0., 0., 0., 0., 0., 0., 0., 0., 0., 0., 0., 0., 0.,\n",
       "       0.], dtype=float32)"
      ]
     },
     "execution_count": 10,
     "metadata": {},
     "output_type": "execute_result"
    }
   ],
   "source": [
    "biases"
   ]
  },
  {
   "cell_type": "code",
   "execution_count": 11,
   "metadata": {},
   "outputs": [
    {
     "data": {
      "text/plain": [
       "(256,)"
      ]
     },
     "execution_count": 11,
     "metadata": {},
     "output_type": "execute_result"
    }
   ],
   "source": [
    "biases.shape"
   ]
  },
  {
   "cell_type": "code",
   "execution_count": 12,
   "metadata": {},
   "outputs": [],
   "source": [
    "model.compile(loss=\"categorical_crossentropy\",\n",
    "              optimizer= \"Adam\",\n",
    "              metrics =[\"accuracy\"])"
   ]
  },
  {
   "cell_type": "markdown",
   "metadata": {},
   "source": [
    "## Modeloa entrenatu"
   ]
  },
  {
   "cell_type": "code",
   "execution_count": 13,
   "metadata": {},
   "outputs": [
    {
     "name": "stdout",
     "output_type": "stream",
     "text": [
      "(1305, 63)\n",
      "(1305, 5)\n"
     ]
    }
   ],
   "source": [
    "from sklearn.model_selection import train_test_split\n",
    "\n",
    "column_names = ['0_x', '0_y', '0_z', '1_x', '1_y', '1_z', '2_x', '2_y', '2_z', '3_x', '3_y', '3_z', '4_x', '4_y', '4_z', \n",
    "                '5_x', '5_y', '5_z', '6_x', '6_y', '6_z', '7_x', '7_y', '7_z', '8_x', '8_y', '8_z', '9_x', '9_y', '9_z', \n",
    "                '10_x', '10_y', '10_z', '11_x', '11_y', '11_z', '12_x', '12_y', '12_z', '13_x', '13_y', '13_z', '14_x', \n",
    "                '14_y', '14_z', '15_x', '15_y', '15_z', '16_x', '16_y', '16_z', '17_x', '17_y', '17_z', '18_x', '18_y', \n",
    "                '18_z', '19_x', '19_y', '19_z', '20_x', '20_y', '20_z', 'classes']\n",
    "                \n",
    "if exists('datos.csv'):\n",
    "  data = pd.read_csv('datos.csv')\n",
    "  landmark_csv = pd.DataFrame(data, columns= column_names)\n",
    "  y = to_categorical(landmark_csv['classes'])\n",
    "  x = landmark_csv.drop('classes',axis=1)\n",
    "  print(x.shape)\n",
    "  print(y.shape)\n",
    "  x_train, x_val, y_train, y_val = train_test_split(x, y, test_size=0.2, random_state=42)\n",
    "\n",
    "else:\n",
    "  print('Ez da horrelako dokumenturik bilatu')\n",
    "\n"
   ]
  },
  {
   "cell_type": "code",
   "execution_count": 14,
   "metadata": {},
   "outputs": [
    {
     "name": "stderr",
     "output_type": "stream",
     "text": [
      "2022-02-01 13:56:21.467037: I tensorflow/compiler/mlir/mlir_graph_optimization_pass.cc:176] None of the MLIR Optimization Passes are enabled (registered 2)\n",
      "2022-02-01 13:56:21.487810: I tensorflow/core/platform/profile_utils/cpu_utils.cc:114] CPU Frequency: 3999960000 Hz\n"
     ]
    },
    {
     "name": "stdout",
     "output_type": "stream",
     "text": [
      "Epoch 1/30\n"
     ]
    },
    {
     "name": "stderr",
     "output_type": "stream",
     "text": [
      "2022-02-01 13:56:21.686833: I tensorflow/stream_executor/platform/default/dso_loader.cc:53] Successfully opened dynamic library libcublas.so.11\n"
     ]
    },
    {
     "name": "stdout",
     "output_type": "stream",
     "text": [
      "33/33 [==============================] - 1s 4ms/step - loss: 1.2602 - accuracy: 0.4741 - val_loss: 1.0285 - val_accuracy: 0.7356\n",
      "Epoch 2/30\n",
      "33/33 [==============================] - 0s 2ms/step - loss: 0.8941 - accuracy: 0.7337 - val_loss: 0.6976 - val_accuracy: 0.8352\n",
      "Epoch 3/30\n",
      " 1/33 [..............................] - ETA: 0s - loss: 0.7165 - accuracy: 0.8125"
     ]
    },
    {
     "name": "stderr",
     "output_type": "stream",
     "text": [
      "2022-02-01 13:56:22.203118: I tensorflow/stream_executor/platform/default/dso_loader.cc:53] Successfully opened dynamic library libcublasLt.so.11\n",
      "2022-02-01 13:56:22.203166: I tensorflow/stream_executor/cuda/cuda_blas.cc:1838] TensorFloat-32 will be used for the matrix multiplication. This will only be logged once.\n"
     ]
    },
    {
     "name": "stdout",
     "output_type": "stream",
     "text": [
      "33/33 [==============================] - 0s 2ms/step - loss: 0.5998 - accuracy: 0.8946 - val_loss: 0.4735 - val_accuracy: 0.9732\n",
      "Epoch 4/30\n",
      "33/33 [==============================] - 0s 2ms/step - loss: 0.3941 - accuracy: 0.9550 - val_loss: 0.3192 - val_accuracy: 0.9847\n",
      "Epoch 5/30\n",
      "33/33 [==============================] - 0s 2ms/step - loss: 0.2669 - accuracy: 0.9799 - val_loss: 0.2085 - val_accuracy: 1.0000\n",
      "Epoch 6/30\n",
      "33/33 [==============================] - 0s 2ms/step - loss: 0.1828 - accuracy: 0.9895 - val_loss: 0.1468 - val_accuracy: 1.0000\n",
      "Epoch 7/30\n",
      "33/33 [==============================] - 0s 1ms/step - loss: 0.1287 - accuracy: 0.9923 - val_loss: 0.1018 - val_accuracy: 0.9962\n",
      "Epoch 8/30\n",
      "33/33 [==============================] - 0s 2ms/step - loss: 0.0867 - accuracy: 0.9981 - val_loss: 0.0703 - val_accuracy: 1.0000\n",
      "Epoch 9/30\n",
      "33/33 [==============================] - 0s 2ms/step - loss: 0.0622 - accuracy: 1.0000 - val_loss: 0.0519 - val_accuracy: 1.0000\n",
      "Epoch 10/30\n",
      "33/33 [==============================] - 0s 2ms/step - loss: 0.0477 - accuracy: 1.0000 - val_loss: 0.0370 - val_accuracy: 1.0000\n",
      "Epoch 11/30\n",
      "33/33 [==============================] - 0s 2ms/step - loss: 0.0350 - accuracy: 1.0000 - val_loss: 0.0292 - val_accuracy: 1.0000\n",
      "Epoch 12/30\n",
      "33/33 [==============================] - 0s 2ms/step - loss: 0.0282 - accuracy: 1.0000 - val_loss: 0.0234 - val_accuracy: 1.0000\n",
      "Epoch 13/30\n",
      "33/33 [==============================] - 0s 2ms/step - loss: 0.0226 - accuracy: 1.0000 - val_loss: 0.0197 - val_accuracy: 1.0000\n",
      "Epoch 14/30\n",
      "33/33 [==============================] - 0s 2ms/step - loss: 0.0184 - accuracy: 1.0000 - val_loss: 0.0170 - val_accuracy: 1.0000\n",
      "Epoch 15/30\n",
      "33/33 [==============================] - 0s 2ms/step - loss: 0.0166 - accuracy: 1.0000 - val_loss: 0.0130 - val_accuracy: 1.0000\n",
      "Epoch 16/30\n",
      "33/33 [==============================] - 0s 2ms/step - loss: 0.0133 - accuracy: 1.0000 - val_loss: 0.0113 - val_accuracy: 1.0000\n",
      "Epoch 17/30\n",
      "33/33 [==============================] - 0s 1ms/step - loss: 0.0111 - accuracy: 1.0000 - val_loss: 0.0101 - val_accuracy: 1.0000\n",
      "Epoch 18/30\n",
      "33/33 [==============================] - 0s 2ms/step - loss: 0.0096 - accuracy: 1.0000 - val_loss: 0.0090 - val_accuracy: 1.0000\n",
      "Epoch 19/30\n",
      "33/33 [==============================] - 0s 2ms/step - loss: 0.0086 - accuracy: 1.0000 - val_loss: 0.0073 - val_accuracy: 1.0000\n",
      "Epoch 20/30\n",
      "33/33 [==============================] - 0s 2ms/step - loss: 0.0074 - accuracy: 1.0000 - val_loss: 0.0064 - val_accuracy: 1.0000\n",
      "Epoch 21/30\n",
      "33/33 [==============================] - 0s 1ms/step - loss: 0.0066 - accuracy: 1.0000 - val_loss: 0.0058 - val_accuracy: 1.0000\n",
      "Epoch 22/30\n",
      "33/33 [==============================] - 0s 2ms/step - loss: 0.0058 - accuracy: 1.0000 - val_loss: 0.0048 - val_accuracy: 1.0000\n",
      "Epoch 23/30\n",
      "33/33 [==============================] - 0s 1ms/step - loss: 0.0049 - accuracy: 1.0000 - val_loss: 0.0043 - val_accuracy: 1.0000\n",
      "Epoch 24/30\n",
      "33/33 [==============================] - 0s 2ms/step - loss: 0.0044 - accuracy: 1.0000 - val_loss: 0.0038 - val_accuracy: 1.0000\n",
      "Epoch 25/30\n",
      "33/33 [==============================] - 0s 1ms/step - loss: 0.0039 - accuracy: 1.0000 - val_loss: 0.0033 - val_accuracy: 1.0000\n",
      "Epoch 26/30\n",
      "33/33 [==============================] - 0s 2ms/step - loss: 0.0034 - accuracy: 1.0000 - val_loss: 0.0029 - val_accuracy: 1.0000\n",
      "Epoch 27/30\n",
      "33/33 [==============================] - 0s 1ms/step - loss: 0.0031 - accuracy: 1.0000 - val_loss: 0.0027 - val_accuracy: 1.0000\n",
      "Epoch 28/30\n",
      "33/33 [==============================] - 0s 2ms/step - loss: 0.0030 - accuracy: 1.0000 - val_loss: 0.0025 - val_accuracy: 1.0000\n",
      "Epoch 29/30\n",
      "33/33 [==============================] - 0s 2ms/step - loss: 0.0026 - accuracy: 1.0000 - val_loss: 0.0022 - val_accuracy: 1.0000\n",
      "Epoch 30/30\n",
      "33/33 [==============================] - 0s 2ms/step - loss: 0.0023 - accuracy: 1.0000 - val_loss: 0.0020 - val_accuracy: 1.0000\n"
     ]
    }
   ],
   "source": [
    "history = model.fit(x_train, y_train, epochs=30, validation_data=(x_val, y_val))\n"
   ]
  },
  {
   "cell_type": "code",
   "execution_count": 15,
   "metadata": {},
   "outputs": [],
   "source": [
    "model.save('posizio_klasifikatzailea_0.h5')"
   ]
  },
  {
   "cell_type": "code",
   "execution_count": 16,
   "metadata": {},
   "outputs": [
    {
     "data": {
      "image/png": "[encoded data removed]",
      "text/plain": [
       "<Figure size 576x360 with 1 Axes>"
      ]
     },
     "metadata": {
      "needs_background": "light"
     },
     "output_type": "display_data"
    }
   ],
   "source": [
    "import pandas as pd\n",
    "import matplotlib.pyplot as plt\n",
    "\n",
    "pd.DataFrame(history.history).plot(figsize=(8,5))\n",
    "plt.grid(True)\n",
    "\n",
    "plt.show()"
   ]
  },
  {
   "cell_type": "code",
   "execution_count": 17,
   "metadata": {},
   "outputs": [
    {
     "name": "stdout",
     "output_type": "stream",
     "text": [
      "9/9 [==============================] - 0s 920us/step - loss: 0.0020 - accuracy: 1.0000\n"
     ]
    },
    {
     "data": {
      "text/plain": [
       "[0.002006339142099023, 1.0]"
      ]
     },
     "execution_count": 17,
     "metadata": {},
     "output_type": "execute_result"
    }
   ],
   "source": [
    "model.evaluate(x_val,y_val)"
   ]
  },
  {
   "cell_type": "markdown",
   "metadata": {},
   "source": [
    "## Martxan jarri predikzioak egiten"
   ]
  },
  {
   "cell_type": "code",
   "execution_count": 3,
   "metadata": {},
   "outputs": [],
   "source": [
    "mp_drawing = mp.solutions.drawing_utils\n",
    "mp_drawing_styles = mp.solutions.drawing_styles\n",
    "mp_hands = mp.solutions.hands\n",
    "\n",
    "new_model = keras.models.load_model('posizio_klasifikatzailea_0.h5')\n",
    "\n",
    "column_names = ['0_x', '0_y', '0_z', '1_x', '1_y', '1_z', '2_x', '2_y', '2_z', '3_x', '3_y', '3_z', '4_x', '4_y', '4_z', \n",
    "                '5_x', '5_y', '5_z', '6_x', '6_y', '6_z', '7_x', '7_y', '7_z', '8_x', '8_y', '8_z', '9_x', '9_y', '9_z', \n",
    "                '10_x', '10_y', '10_z', '11_x', '11_y', '11_z', '12_x', '12_y', '12_z', '13_x', '13_y', '13_z', '14_x', \n",
    "                '14_y', '14_z', '15_x', '15_y', '15_z', '16_x', '16_y', '16_z', '17_x', '17_y', '17_z', '18_x', '18_y', \n",
    "                '18_z', '19_x', '19_y', '19_z', '20_x', '20_y', '20_z']\n",
    "\n",
    "hand_mesh_names = {0: 'Eskurik gabe', 1:'Zabalik', 2:'Hatza igota', 3:'Heavy', 4:'Hatz potola'}\n",
    "\n",
    "# For webcam input:\n",
    "cap = cv2.VideoCapture(0)\n",
    "with mp_hands.Hands(\n",
    "    model_complexity=0,\n",
    "    max_num_hands=1,\n",
    "    min_detection_confidence=0.5,\n",
    "    min_tracking_confidence=0.5) as hands:\n",
    "  while cap.isOpened():\n",
    "    landmark_csv = pd.DataFrame(columns=column_names)\n",
    "    hand_landmark_result=0\n",
    "    success, image = cap.read()\n",
    "    if not success:\n",
    "      print(\"Ignoring empty camera frame.\")\n",
    "      # If loading a video, use 'break' instead of 'continue'.\n",
    "      continue\n",
    "\n",
    "    # To improve performance, optionally mark the image as not writeable to\n",
    "    # pass by reference.\n",
    "    image.flags.writeable = False\n",
    "    image = cv2.cvtColor(image, cv2.COLOR_BGR2RGB)\n",
    "    results = hands.process(image)\n",
    "\n",
    "    # Draw the hand annotations on the image.\n",
    "    image.flags.writeable = True\n",
    "    image = cv2.cvtColor(image, cv2.COLOR_RGB2BGR)\n",
    "    if results.multi_hand_landmarks:\n",
    "      landmark_csv = pd.DataFrame(columns=column_names)\n",
    "      for hand_landmarks in results.multi_hand_landmarks:\n",
    "        \n",
    "        points = []\n",
    "        for n in enumerate(hand_landmarks.landmark):\n",
    "          points.append(n[1].x)\n",
    "          points.append(n[1].y)\n",
    "          points.append(n[1].z)\n",
    "        if len(points)==63:\n",
    "          a_series = pd. Series(points, index = column_names)\n",
    "          landmark_csv = landmark_csv.append(a_series, ignore_index=True)\n",
    "          hand_landmark_result = int(np.argmax(new_model.predict(landmark_csv)))\n",
    "            \n",
    "        mp_drawing.draw_landmarks(\n",
    "            image,\n",
    "            hand_landmarks,\n",
    "            mp_hands.HAND_CONNECTIONS,\n",
    "            mp_drawing_styles.get_default_hand_landmarks_style(),\n",
    "            mp_drawing_styles.get_default_hand_connections_style())\n",
    "    # Flip the image horizontally for a selfie-view display.\n",
    "    image =cv2.flip(image, 1)\n",
    "    cv2.putText(img=image, text=str(hand_mesh_names[hand_landmark_result]), org=(10, 50), fontFace=cv2.FONT_HERSHEY_TRIPLEX, fontScale=2, color=(255, 0, 0),thickness=2)\n",
    "    cv2.imshow('MediaPipe Hands', image)\n",
    "    k = cv2.waitKey(1)\n",
    "    if  k%256 == 27 or k == ord('q'):\n",
    "      break\n",
    "\n",
    "cap.release()"
   ]
  },
  {
   "cell_type": "markdown",
   "metadata": {},
   "source": [
    "## Martxan jarri predikzioak egiten eta ardatzak hartzen"
   ]
  },
  {
   "cell_type": "code",
   "execution_count": 3,
   "metadata": {},
   "outputs": [
    {
     "name": "stderr",
     "output_type": "stream",
     "text": [
      "INFO: Created TensorFlow Lite XNNPACK delegate for CPU.\n"
     ]
    }
   ],
   "source": [
    "mp_drawing = mp.solutions.drawing_utils\n",
    "mp_drawing_styles = mp.solutions.drawing_styles\n",
    "mp_hands = mp.solutions.hands\n",
    "\n",
    "new_model = keras.models.load_model('posizio_klasifikatzailea_0.h5')\n",
    "\n",
    "column_names = ['0_x', '0_y', '0_z', '1_x', '1_y', '1_z', '2_x', '2_y', '2_z', '3_x', '3_y', '3_z', '4_x', '4_y', '4_z', \n",
    "                '5_x', '5_y', '5_z', '6_x', '6_y', '6_z', '7_x', '7_y', '7_z', '8_x', '8_y', '8_z', '9_x', '9_y', '9_z', \n",
    "                '10_x', '10_y', '10_z', '11_x', '11_y', '11_z', '12_x', '12_y', '12_z', '13_x', '13_y', '13_z', '14_x', \n",
    "                '14_y', '14_z', '15_x', '15_y', '15_z', '16_x', '16_y', '16_z', '17_x', '17_y', '17_z', '18_x', '18_y', \n",
    "                '18_z', '19_x', '19_y', '19_z', '20_x', '20_y', '20_z']\n",
    "\n",
    "hand_mesh_names = {0: 'Eskurik gabe', 1:'Zabalik', 2:'Hatza igota', 3:'Heavy', 4:'Hatz potola'}\n",
    "\n",
    "# For webcam input:\n",
    "cap = cv2.VideoCapture(0)\n",
    "with mp_hands.Hands(\n",
    "    model_complexity=0,\n",
    "    max_num_hands=1,\n",
    "    min_detection_confidence=0.5,\n",
    "    min_tracking_confidence=0.5) as hands:\n",
    "  while cap.isOpened():\n",
    "    landmark_csv = pd.DataFrame(columns=column_names)\n",
    "    hand_landmark_result=0\n",
    "    x_ardatza, y_ardatza, z_ardatza = 0, 0, 0\n",
    "    success, image = cap.read()\n",
    "    if not success:\n",
    "      print(\"Ignoring empty camera frame.\")\n",
    "      # If loading a video, use 'break' instead of 'continue'.\n",
    "      continue\n",
    "\n",
    "    # To improve performance, optionally mark the image as not writeable to\n",
    "    # pass by reference.\n",
    "    image.flags.writeable = False\n",
    "    image = cv2.cvtColor(image, cv2.COLOR_BGR2RGB)\n",
    "    results = hands.process(image)\n",
    "\n",
    "    # Draw the hand annotations on the image.\n",
    "    image.flags.writeable = True\n",
    "    image = cv2.cvtColor(image, cv2.COLOR_RGB2BGR)\n",
    "    if results.multi_hand_landmarks:\n",
    "      landmark_csv = pd.DataFrame(columns=column_names)\n",
    "      for hand_landmarks in results.multi_hand_landmarks:\n",
    "        \n",
    "        points = []\n",
    "        for n in enumerate(hand_landmarks.landmark):\n",
    "          points.append(n[1].x)\n",
    "          points.append(n[1].y)\n",
    "          points.append(n[1].z)\n",
    "        if len(points)==63:\n",
    "          a_series = pd. Series(points, index = column_names)\n",
    "          landmark_csv = landmark_csv.append(a_series, ignore_index=True)\n",
    "          hand_landmark_result = int(np.argmax(new_model.predict(landmark_csv)))\n",
    "\n",
    "          if hand_landmark_result == 2:\n",
    "            x_hatz, y_hatz, z_hatz = points[8*3],points[8*3+1],points[8*3+2]\n",
    "            x_ardatza, y_ardatza, z_ardatza = round(points[8*3],2),round(points[8*3+1],2),round(points[8*3+2],2)\n",
    "            \n",
    "        mp_drawing.draw_landmarks(\n",
    "            image,\n",
    "            hand_landmarks,\n",
    "            mp_hands.HAND_CONNECTIONS,\n",
    "            mp_drawing_styles.get_default_hand_landmarks_style(),\n",
    "            mp_drawing_styles.get_default_hand_connections_style())\n",
    "    # Flip the image horizontally for a selfie-view display.\n",
    "    image =cv2.flip(image, 1)\n",
    "    cv2.putText(img=image, text=str(hand_mesh_names[hand_landmark_result]), org=(10, 50), fontFace=cv2.FONT_HERSHEY_TRIPLEX, fontScale=2, color=(255, 0, 0),thickness=2)\n",
    "    if hand_mesh_names[hand_landmark_result] == 'Hatza igota':\n",
    "      cv2.putText(img=image, text= str(' x:' + str(1-x_ardatza) + ' y:' + str(1-y_ardatza) + ' z:' + str(-z_ardatza)), org=(10, 100), fontFace=cv2.FONT_HERSHEY_TRIPLEX, fontScale=1, color=(255, 0, 0),thickness=1)\n",
    "    cv2.imshow('MediaPipe Hands', image)\n",
    "    k = cv2.waitKey(1)\n",
    "    if  k%256 == 27 or k == ord('q'):\n",
    "      break\n",
    "\n",
    "cap.release()"
   ]
  }
 ],
 "metadata": {
  "interpreter": {
   "hash": "15feadfebe10b08661e060cccd6d6490081289def0ad929660aa08d2bb5b840d"
  },
  "kernelspec": {
   "display_name": "Python 3.8.10 64-bit ('tf-gpu': venv)",
   "language": "python",
   "name": "python3"
  },
  "language_info": {
   "codemirror_mode": {
    "name": "ipython",
    "version": 3
   },
   "file_extension": ".py",
   "mimetype": "text/x-python",
   "name": "python",
   "nbconvert_exporter": "python",
   "pygments_lexer": "ipython3",
   "version": "3.8.10"
  },
  "orig_nbformat": 4
 },
 "nbformat": 4,
 "nbformat_minor": 2
}
